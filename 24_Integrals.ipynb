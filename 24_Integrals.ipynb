{
  "nbformat": 4,
  "nbformat_minor": 0,
  "metadata": {
    "colab": {
      "provenance": [],
      "authorship_tag": "ABX9TyMCIzjYOwgREwNjXOv+SbjP",
      "include_colab_link": true
    },
    "kernelspec": {
      "name": "python3",
      "display_name": "Python 3"
    },
    "language_info": {
      "name": "python"
    }
  },
  "cells": [
    {
      "cell_type": "markdown",
      "metadata": {
        "id": "view-in-github",
        "colab_type": "text"
      },
      "source": [
        "<a href=\"https://colab.research.google.com/github/viakek/Math-2024-25-Winter/blob/main/24_Integrals.ipynb\" target=\"_parent\"><img src=\"https://colab.research.google.com/assets/colab-badge.svg\" alt=\"Open In Colab\"/></a>"
      ]
    },
    {
      "cell_type": "markdown",
      "source": [
        "\n",
        "## 24. Integrals\n",
        "\n",
        "1. Compute:\n",
        "   - $\\int 1 dx$ = $ x+C $\n",
        "   - $\\int (x^2 +2) dx$ = $\\frac {x^n+1}{n=1}+ C= \\frac {x^2+1}{2+1}+2x= \\frac {x^3}{3}+2x+C$\n",
        "   - $\\int 2\\sin(x) dx$= $-2cos(x)+C$\n",
        "   - $\\int \\frac{3}{x} dx$= $ 3\\int \\frac{1}{x}dx= 3ln│x│+C$\n",
        "   - $\\int \\frac{1}{x^2} dx$= $x^-2 =\\frac{x^-2+1}{-2+1}+C= \\frac{x^-1}{-1}+C= -\\frac{1}{x}+C$\n",
        "   - $\\int \\left( \\frac{1}{3}x^4 - 5 \\right) \\, dx$= $\\frac{1}{3} \\int x^4dx-5= \\frac {1}{3} *\\frac {x^5}{5}-5x= \\frac{x^5}{15}-5x+C$\n",
        "   - $\\int (\\sin^2 x + \\cos^2 x) \\, dx$ =$1x=x+C$\n",
        "   - $\\int (5 \\sin x + 3e^x) \\, dx$= $ -5cosx+3e^x+C$\n",
        "   - $\\int \\sqrt[3]{x} \\, dx$= $x^\\frac{3}{2}= \\frac{x^\\frac{3}{2}+1}{\\frac{3}{2}+1}= \\frac {x^\\frac{5}{2}}{\\frac{5}{2}}+C= \\frac{2}{5}x^\\frac{5}{2}+C$\n",
        "   - $\\int \\sqrt{10x} \\, dx$= $10x^\\frac{1}{2}$ = $10\\int x^\\frac{1}{2}dx$= $10(\\frac{x^\\frac{1}{2}+1}{\\frac{1}{2}+1})+C$= $10(\\frac{x^\\frac{3}{2}}{\\frac{3}{2}})+C$ =$\\frac{2}{3}x^\\frac{3}{2}$= $\\frac{20}{3}x^\\frac{3}{2}+C$\n",
        "   - $\\int \\cos\\left(\\frac{5}{2}x + 3\\right) \\, dx$= $\\int cos(ax+b)=\\frac{1}{a}sin(ax+b)+C=\\frac{2}{5}sin(\\frac{5}{2}x+3)+C$\n",
        "   - $\\int \\frac{\\cos(\\ln(x))}{x} \\, dx$=$sin(ln│x│)x^-1=sin(ln│x│)+C$\n",
        "   - $\\int x \\ln(x) \\, dx$=$\\frac{x^2}{2}ln│x│+C$\n",
        "   - $\\int x e^x \\, dx$=$\\frac{x^2}{2}e^x+C$\n",
        "\n",
        "2. Calculate integrals over the interval $[0, \\pi]$ and visualize them in Geogebra:\n",
        "   - $f(x)=2x+1$\n",
        "   - $g(x)=x^2$\n",
        "\n",
        "3. Calculate the area of the region bounded by the lines:\n",
        "$x = 1$, $x = 2$, $y = 0$, and $y = x^2 + 1$. Show it in Geogebra.\n",
        "\n",
        "4. Calculate the area under the sine curve over the interval $[0, \\pi]$, using:\n",
        "\n",
        "$$P = \\int_a^b f(x) \\, dx = \\int_0^\\pi \\sin(x) \\, dx$$\n",
        "\n",
        "5. Calculate the length of the sine curve over the same interval using:\n",
        "\n",
        "$$L = \\int_a^b \\sqrt{1 + (f'(x))^2} \\, dx= \\int_0^\\pi \\sqrt{1 + \\cos^2(x)} \\, dx\n",
        "$$\n",
        "\n",
        "6. Find the distance of the moving particle between time $t=0$ and $t=2$ for the following position function: $x(t) = 3t^2 - 6t + 1$.\n",
        "\n"
      ],
      "metadata": {
        "id": "ThdZjbnbcyIn"
      }
    }
  ]
}