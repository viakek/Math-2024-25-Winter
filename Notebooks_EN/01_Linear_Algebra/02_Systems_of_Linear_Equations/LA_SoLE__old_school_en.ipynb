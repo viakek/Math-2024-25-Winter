{
  "cells": [
    {
      "cell_type": "markdown",
      "metadata": {
        "id": "R-MtYRLcfUIA"
      },
      "source": [
        "# School Method for Solving Systems of Linear Equations"
      ]
    },
    {
      "cell_type": "code",
      "execution_count": null,
      "metadata": {
        "id": "bTRjlcG6fUIC"
      },
      "outputs": [],
      "source": [
        "import sympy as sp\n",
        "from sympy import symbols, Eq, expand, solve\n",
        "\n",
        "class EnhancedEq(Eq):\n",
        "    def __add__(self, other):\n",
        "        return EnhancedEq(self.lhs + other.lhs, self.rhs + other.rhs)\n",
        "\n",
        "    def __sub__(self, other):\n",
        "        return EnhancedEq(self.lhs - other.lhs, self.rhs - other.rhs)\n",
        "\n",
        "    def __mul__(self, scalar):\n",
        "        return EnhancedEq(scalar * self.lhs, scalar * self.rhs)\n",
        "\n",
        "    def __rmul__(self, scalar):\n",
        "        return self.__mul__(scalar)\n",
        "\n",
        "    def simplify(self):\n",
        "        return EnhancedEq(expand(self.lhs), expand(self.rhs))\n",
        "\n",
        "    def substitute(self, *args, **kwargs):\n",
        "        return EnhancedEq(self.lhs.subs(*args, **kwargs), self.rhs.subs(*args, **kwargs))\n",
        "\n",
        "    def solve_for(self, symbol):\n",
        "        return solve(self, symbol)\n",
        "\n",
        "# Example usage:\n",
        "x, y = symbols('x y')\n",
        "\n",
        "# Define equations\n",
        "eq1 = EnhancedEq(2*x + y, 5)\n",
        "eq2 = EnhancedEq(x - y, 1)"
      ]
    },
    {
      "cell_type": "code",
      "execution_count": null,
      "metadata": {
        "colab": {
          "base_uri": "https://localhost:8080/",
          "height": 56
        },
        "id": "rNd010XSfUID",
        "outputId": "02744190-77aa-418f-d493-3edee229ab03"
      },
      "outputs": [
        {
          "output_type": "stream",
          "name": "stdout",
          "text": [
            "First equation:\n"
          ]
        },
        {
          "output_type": "execute_result",
          "data": {
            "text/plain": [
              "Eq(2*x + y, 5)"
            ],
            "text/latex": "$\\displaystyle 2 x + y = 5$"
          },
          "metadata": {},
          "execution_count": 2
        }
      ],
      "source": [
        "print(\"First equation:\")\n",
        "eq1"
      ]
    },
    {
      "cell_type": "code",
      "execution_count": null,
      "metadata": {
        "colab": {
          "base_uri": "https://localhost:8080/",
          "height": 56
        },
        "id": "HNCD8bPifUIE",
        "outputId": "3baa92dd-c1e1-495c-9c8b-b379090cf403"
      },
      "outputs": [
        {
          "output_type": "stream",
          "name": "stdout",
          "text": [
            "Second equation:\n"
          ]
        },
        {
          "output_type": "execute_result",
          "data": {
            "text/plain": [
              "Eq(x - y, 1)"
            ],
            "text/latex": "$\\displaystyle x - y = 1$"
          },
          "metadata": {},
          "execution_count": 3
        }
      ],
      "source": [
        "print(\"Second equation:\")\n",
        "eq2"
      ]
    },
    {
      "cell_type": "code",
      "execution_count": null,
      "metadata": {
        "colab": {
          "base_uri": "https://localhost:8080/",
          "height": 39
        },
        "id": "pZYBhr0rfUIF",
        "outputId": "bc596b5a-6e47-4559-b083-1431d1ac8512"
      },
      "outputs": [
        {
          "output_type": "execute_result",
          "data": {
            "text/plain": [
              "Eq(3*x, 6)"
            ],
            "text/latex": "$\\displaystyle 3 x = 6$"
          },
          "metadata": {},
          "execution_count": 4
        }
      ],
      "source": [
        "# Add the equations\n",
        "eq3 = eq1 + eq2\n",
        "eq3"
      ]
    },
    {
      "cell_type": "code",
      "execution_count": null,
      "metadata": {
        "colab": {
          "base_uri": "https://localhost:8080/",
          "height": 37
        },
        "id": "8ZHm4zMCfUIF",
        "outputId": "67920855-53c5-4b6d-a5cd-dd49189c550b"
      },
      "outputs": [
        {
          "output_type": "execute_result",
          "data": {
            "text/plain": [
              "2"
            ],
            "text/latex": "$\\displaystyle 2$"
          },
          "metadata": {},
          "execution_count": 5
        }
      ],
      "source": [
        "# We have an equation with one unknown, so we can solve it\n",
        "sol_x = eq3.solve_for(x)[0]\n",
        "sol_x"
      ]
    },
    {
      "cell_type": "code",
      "execution_count": null,
      "metadata": {
        "colab": {
          "base_uri": "https://localhost:8080/",
          "height": 39
        },
        "id": "KeSIxUqufUIF",
        "outputId": "8b3aa061-9d1a-4d51-9fb8-4eb01b3cce6c"
      },
      "outputs": [
        {
          "output_type": "execute_result",
          "data": {
            "text/plain": [
              "Eq(2 - y, 1)"
            ],
            "text/latex": "$\\displaystyle 2 - y = 1$"
          },
          "metadata": {},
          "execution_count": 6
        }
      ],
      "source": [
        "# Substitute the solution into equation 2\n",
        "eq2 = eq2.substitute(x, sol_x)\n",
        "eq2"
      ]
    },
    {
      "cell_type": "code",
      "execution_count": null,
      "metadata": {
        "colab": {
          "base_uri": "https://localhost:8080/",
          "height": 37
        },
        "id": "vxNbZBR9fUIG",
        "outputId": "4191a6e1-aae2-4fb4-c02c-62e60ff47508"
      },
      "outputs": [
        {
          "output_type": "execute_result",
          "data": {
            "text/plain": [
              "1"
            ],
            "text/latex": "$\\displaystyle 1$"
          },
          "metadata": {},
          "execution_count": 7
        }
      ],
      "source": [
        "# We get an equation with one unknown, so we can solve it\n",
        "eq2.solve_for(y)[0]"
      ]
    },
    {
      "cell_type": "code",
      "execution_count": null,
      "metadata": {
        "colab": {
          "base_uri": "https://localhost:8080/"
        },
        "id": "9Dup1oxwfUIH",
        "outputId": "c78c2052-a4c6-4e75-bec8-e4a8b1565cb6"
      },
      "outputs": [
        {
          "output_type": "execute_result",
          "data": {
            "text/plain": [
              "{x: 2, y: 1}"
            ]
          },
          "metadata": {},
          "execution_count": 8
        }
      ],
      "source": [
        "# Thus x=2, y=1\n",
        "# Verify with sympy\n",
        "sp.solve([eq1, eq2])"
      ]
    },
    {
      "cell_type": "markdown",
      "metadata": {
        "id": "YuTR342ifUIH"
      },
      "source": [
        "---\n",
        "\n",
        "### Exercises for Students\n",
        "\n",
        "Solve the following systems of equations similarly to the example above:\n",
        "\n",
        "* $3x-2y=5, \\quad 2x+3y=7$,\n",
        "## Solution:\n",
        "$$\n",
        "\\begin{align*}\n",
        "& \\quad 3x - 2y = 5 |*3\\\\\n",
        "& \\quad 2x + 3y = 7 |*2\\\\\n",
        "\\\\\n",
        "& \\quad 9x - 6y = 15  \\\\\n",
        "& \\quad 4x + 6y = 14  \\\\\n",
        "\\\\\n",
        "& \\quad 13x = 29 \\\\\n",
        "& \\quad x = \\frac{29}{13} \\\\\n",
        "\\\\\n",
        "& \\quad 3\\left(\\frac{29}{13}\\right) - 2y = 5 \\\\\n",
        "& \\quad \\frac{87}{13} -\\frac{5}{1} *13=2y \\\\\n",
        "& \\quad \\frac{87}{13} -\\frac{65}{13}= 2y \\\\\n",
        "\\\\\n",
        "& \\quad 2y = \\frac{22}{13} \\\\\n",
        "& \\quad y = \\frac{11}{13} \\\\\n",
        "\\\\\n",
        "& \\quad \\left(x, y\\right) = \\left(\\frac{29}{13}, \\frac{11}{13}\\right)\n",
        "\\end{align*}\n",
        "$$\n",
        "\n",
        "* $2x-3y=10, \\quad 4x+5y=20$,\n",
        "## Solution:\n",
        "$$\n",
        "\\begin{align*}\n",
        "& \\quad 2x-3y=10 |*2 \\\\\n",
        "& \\quad 4x+5y=20 \\\\\n",
        "\\\\\n",
        "& \\quad 4x-6y=20 \\\\\n",
        "& \\quad 4x+5y=20 \\\\\n",
        "\\\\\n",
        "& \\quad -11y=0 \\\\\n",
        "& \\quad y=0 \\\\\n",
        "\\\\\n",
        "& \\quad 2x-3(0)=10 \\\\\n",
        "& \\quad 2x=10 \\\\\n",
        "& \\quad x=5\\\\\n",
        "\\\\\n",
        "& \\quad (x,y)=(5,0)\\\\ \\end{align*}\n",
        "$$\n",
        "\n",
        "* $2x - y + z = 3, \\quad x + 2y - z = 1, \\quad 3x - y + 2z = 11$.\n",
        "## Solution:\n",
        "$$\n",
        "\\begin{align*}\n",
        "& \\quad 2x - y + z = 3 \\quad \\\\\n",
        "& \\quad x + 2y - z = 1 \\quad \\\\\n",
        "& \\quad 3x - y + 2z = 11 \\quad \\\\\n",
        "\\\\\n",
        "& \\quad (2x - y + z) + (x + 2y - z) = 3 + 1 \\\\\n",
        "& \\quad 3x + y = 4 \\quad \\\\\n",
        "\\\\\n",
        "& \\quad y = 4 - 3x \\\\\n",
        "\\\\\n",
        "& \\quad 3x - (4 - 3x) + 2z = 11 \\\\\n",
        "& \\quad 3x - 4 + 3x + 2z = 11 \\\\\n",
        "& \\quad 6x + 2z - 4 = 11 \\\\\n",
        "& \\quad 2z = 15 - 6x \\\\\n",
        "& \\quad z = \\frac{15 - 6x}{2} \\\\\n",
        "\\\\\n",
        "& \\quad 2x - (4 - 3x) + \\frac{15 - 6x}{2} = 3 \\\\\n",
        "& \\quad 2(2x) - 2(4 - 3x) + (15 - 6x) = 6 \\\\\n",
        "& \\quad 4x - 8 + 6x + 15 - 6x = 6 \\\\\n",
        "& \\quad 4x - 8 + 15 = 6 \\\\\n",
        "& \\quad 4x + 7 = 6 \\\\\n",
        "& \\quad 4x = -1 \\\\\n",
        "& \\quad x = -\\frac{1}{4} \\\\\n",
        "\\\\\n",
        "& \\quad y = 4 - 3\\left(-\\frac{1}{4}\\right) \\\\\n",
        "& \\quad y = 4 + \\frac{3}{4} = \\frac{19}{4} \\\\\n",
        "\\\\\n",
        "& \\quad z = \\frac{15 - 6\\left(-\\frac{1}{4}\\right)}{2} \\\\\n",
        "& \\quad z = \\frac{15 + \\frac{6}{4}}{2} = \\frac{\\frac{33}{2}}{2} = \\frac{33}{4} \\\\\n",
        "\\\\\n",
        "& \\quad \\left( x, y, z \\right) = \\left( -\\frac{1}{4}, \\frac{19}{4}, \\frac{33}{4} \\right)\n",
        "\\end{align*}\n",
        "$$\n",
        "\n",
        "\n",
        "* $2x-3y+4z+2t=2, \\quad 3x+2y-5z+3t=3, \\quad 4x-3y+2z-5t=4, \\quad 5x+4y-3z+2t=5$.\n",
        "## Solution:\n",
        "$$\n",
        "\\begin{align*}\n",
        "& \\quad 2x - 3y + 4z + 2t = 2 |*3 \\quad \\\\\n",
        "& \\quad 3x + 2y - 5z + 3t = 3 |*2 \\quad \\\\\n",
        "& \\quad 4x - 3y + 2z - 5t = 4 \\quad \\\\\n",
        "& \\quad 5x + 4y - 3z + 2t = 5 \\quad \\\\\n",
        "\\\\\n",
        "&\n",
        "\\end{align*}\n",
        "$$\n"
      ]
    }
  ],
  "metadata": {
    "kernelspec": {
      "display_name": "Python 3",
      "language": "python",
      "name": "python3"
    },
    "language_info": {
      "codemirror_mode": {
        "name": "ipython",
        "version": 3
      },
      "file_extension": ".py",
      "mimetype": "text/x-python",
      "name": "python",
      "nbconvert_exporter": "python",
      "pygments_lexer": "ipython3",
      "version": "3.11.9"
    },
    "colab": {
      "provenance": []
    }
  },
  "nbformat": 4,
  "nbformat_minor": 0
}