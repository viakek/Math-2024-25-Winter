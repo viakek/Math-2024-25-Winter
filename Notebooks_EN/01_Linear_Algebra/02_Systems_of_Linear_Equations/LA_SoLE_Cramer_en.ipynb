{
  "cells": [
    {
      "cell_type": "markdown",
      "metadata": {
        "id": "pFKHKweS6uD2"
      },
      "source": [
        "# Cramer's Rule - Examples for 2x2, 3x3, and 4x4 Systems\n",
        "\n",
        "Cramer's rule is used only when the number of equations is equal to the number of unknowns. In other words, the coefficient matrix must be a square matrix.\n",
        "\n",
        "**These formulas are used only** when the **determinant** of the coefficient matrix is **non-zero**. Otherwise, the system of equations is either inconsistent or indeterminate.\n",
        "\n",
        "## 2x2 System of Equations\n",
        "\n",
        "Consider a system of two equations with two unknowns:\n",
        "\n",
        "$$\n",
        "\\begin{cases}\n",
        "a_{11}x_1 + a_{12}x_2 = b_1 \\\\\n",
        "a_{21}x_1 + a_{22}x_2 = b_2\n",
        "\\end{cases}\n",
        "$$\n",
        "\n",
        "Cramer's rule for the unknowns $ x_1 $ and $ x_2 $ is as follows:\n",
        "\n",
        "$$\n",
        "x_1 = \\frac{\\det(A_1)}{\\det(A)} \\quad \\text{and} \\quad x_2 = \\frac{\\det(A_2)}{\\det(A)}\n",
        "$$\n",
        "\n",
        "Where:\n",
        "\n",
        "$$\n",
        "\\det(A) =\n",
        "\\begin{vmatrix}\n",
        "a_{11} & a_{12} \\\\\n",
        "a_{21} & a_{22}\n",
        "\\end{vmatrix}\n",
        "= a_{11}a_{22} - a_{12}a_{21}\n",
        "$$\n",
        "\n",
        "$$\n",
        "\\det(A_1) =\n",
        "\\begin{vmatrix}\n",
        "b_1 & a_{12} \\\\\n",
        "b_2 & a_{22}\n",
        "\\end{vmatrix}\n",
        "= b_1a_{22} - a_{12}b_2\n",
        "$$\n",
        "\n",
        "$$\n",
        "\\det(A_2) =\n",
        "\\begin{vmatrix}\n",
        "a_{11} & b_1 \\\\\n",
        "a_{21} & b_2\n",
        "\\end{vmatrix}\n",
        "= a_{11}b_2 - b_1a_{21}\n",
        "$$\n",
        "\n",
        "## 3x3 System of Equations\n",
        "\n",
        "Consider a system of three equations with three unknowns:\n",
        "\n",
        "$$\n",
        "\\begin{cases}\n",
        "a_{11}x_1 + a_{12}x_2 + a_{13}x_3 = b_1 \\\\\n",
        "a_{21}x_1 + a_{22}x_2 + a_{23}x_3 = b_2 \\\\\n",
        "a_{31}x_1 + a_{32}x_2 + a_{33}x_3 = b_3\n",
        "\\end{cases}\n",
        "$$\n",
        "\n",
        "Cramer's rule for $ x_1 $, $ x_2 $, and $ x_3 $:\n",
        "\n",
        "$$\n",
        "x_1 = \\frac{\\det(A_1)}{\\det(A)} \\quad x_2 = \\frac{\\det(A_2)}{\\det(A)} \\quad x_3 = \\frac{\\det(A_3)}{\\det(A)}\n",
        "$$\n",
        "\n",
        "Where:\n",
        "\n",
        "$$\n",
        "\\det(A) =\n",
        "\\begin{vmatrix}\n",
        "a_{11} & a_{12} & a_{13} \\\\\n",
        "a_{21} & a_{22} & a_{23} \\\\\n",
        "a_{31} & a_{32} & a_{33}\n",
        "\\end{vmatrix}\n",
        "$$\n",
        "\n",
        "$$\n",
        "\\det(A_1) =\n",
        "\\begin{vmatrix}\n",
        "b_1 & a_{12} & a_{13} \\\\\n",
        "b_2 & a_{22} & a_{23} \\\\\n",
        "b_3 & a_{32} & a_{33}\n",
        "\\end{vmatrix}\n",
        "$$\n",
        "\n",
        "$$\n",
        "\\det(A_2) =\n",
        "\\begin{vmatrix}\n",
        "a_{11} & b_1 & a_{13} \\\\\n",
        "a_{21} & b_2 & a_{23} \\\\\n",
        "a_{31} & b_3 & a_{33}\n",
        "\\end{vmatrix}\n",
        "$$\n",
        "\n",
        "$$\n",
        "\\det(A_3) =\n",
        "\\begin{vmatrix}\n",
        "a_{11} & a_{12} & b_1 \\\\\n",
        "a_{21} & a_{22} & b_2 \\\\\n",
        "a_{31} & a_{32} & b_3\n",
        "\\end{vmatrix}\n",
        "$$\n",
        "\n",
        "## 4x4 System of Equations\n",
        "\n",
        "Consider a system of four equations with four unknowns:\n",
        "\n",
        "$$\n",
        "\\begin{cases}\n",
        "a_{11}x_1 + a_{12}x_2 + a_{13}x_3 + a_{14}x_4 = b_1 \\\\\n",
        "a_{21}x_1 + a_{22}x_2 + a_{23}x_3 + a_{24}x_4 = b_2 \\\\\n",
        "a_{31}x_1 + a_{32}x_2 + a_{33}x_3 + a_{34}x_4 = b_3 \\\\\n",
        "a_{41}x_1 + a_{42}x_2 + a_{43}x_3 + a_{44}x_4 = b_4\n",
        "\\end{cases}\n",
        "$$\n",
        "\n",
        "Cramer's rule for $ x_1 $, $ x_2 $, $ x_3 $, and $ x_4 $:\n",
        "\n",
        "$$\n",
        "x_1 = \\frac{\\det(A_1)}{\\det(A)} \\quad x_2 = \\frac{\\det(A_2)}{\\det(A)} \\quad x_3 = \\frac{\\det(A_3)}{\\det(A)} \\quad x_4 = \\frac{\\det(A_4)}{\\det(A)}\n",
        "$$\n",
        "\n",
        "Where:\n",
        "\n",
        "$$\n",
        "\\det(A) =\n",
        "\\begin{vmatrix}\n",
        "a_{11} & a_{12} & a_{13} & a_{14} \\\\\n",
        "a_{21} & a_{22} & a_{23} & a_{24} \\\\\n",
        "a_{31} & a_{32} & a_{33} & a_{34} \\\\\n",
        "a_{41} & a_{42} & a_{43} & a_{44}\n",
        "\\end{vmatrix}\n",
        "$$\n",
        "\n",
        "$$\n",
        "\\det(A_1) =\n",
        "\\begin{vmatrix}\n",
        "b_1 & a_{12} & a_{13} & a_{14} \\\\\n",
        "b_2 & a_{22} & a_{23} & a_{24} \\\\\n",
        "b_3 & a_{32} & a_{33} & a_{34} \\\\\n",
        "b_4 & a_{42} & a_{43} & a_{44}\n",
        "\\end{vmatrix}\n",
        "$$\n",
        "\n",
        "$$\n",
        "\\det(A_2) =\n",
        "\\begin{vmatrix}\n",
        "a_{11} & b_1 & a_{13} & a_{14} \\\\\n",
        "a_{21} & b_2 & a_{23} & a_{24} \\\\\n",
        "a_{31} & b_3 & a_{33} & a_{34} \\\\\n",
        "a_{41} & b_4 & a_{43} & a_{44}\n",
        "\\end{vmatrix}\n",
        "$$\n",
        "\n",
        "$$\n",
        "\\det(A_3) =\n",
        "\\begin{vmatrix}\n",
        "a_{11} & a_{12} & b_1 & a_{14} \\\\\n",
        "a_{21} & a_{22} & b_2 & a_{24} \\\\\n",
        "a_{31} & a_{32} & b_3 & a_{34} \\\\\n",
        "a_{41} & a_{42} & b_4 & a_{44}\n",
        "\\end{vmatrix}\n",
        "$$\n",
        "\n",
        "$$\n",
        "\\det(A_4) =\n",
        "\\begin{vmatrix}\n",
        "a_{11} & a_{12} & a_{13} & b_1 \\\\\n",
        "a_{21} & a_{22} & a_{23} & b_2 \\\\\n",
        "a_{31} & a_{32} & a_{33} & b_3 \\\\\n",
        "a_{41} & a_{42} & a_{43} & b_4\n",
        "\\end{vmatrix}\n",
        "$$\n",
        "\n",
        "## Example"
      ]
    },
    {
      "cell_type": "code",
      "execution_count": 1,
      "metadata": {
        "id": "831OzayM6uD4"
      },
      "outputs": [],
      "source": [
        "import sympy as sp\n",
        "\n",
        "# Define symbols\n",
        "x, y, z = sp.symbols('x y z')\n",
        "\n",
        "# Define the system of equations\n",
        "eq1 = sp.Eq(2*x + 3*y + z, 1)\n",
        "eq2 = sp.Eq(3*x + 2*y + 2*z, 2)\n",
        "eq3 = sp.Eq(x + y + z, 3)\n",
        "\n",
        "# Coefficient matrix of the system\n",
        "A = sp.Matrix([[2, 3, 1], [3, 2, 2], [1, 1, 1]])\n",
        "# Free terms vector\n",
        "b = sp.Matrix([1, 2, 3])"
      ]
    },
    {
      "cell_type": "code",
      "execution_count": 2,
      "metadata": {
        "colab": {
          "base_uri": "https://localhost:8080/",
          "height": 78
        },
        "id": "oKfcD5AV6uD5",
        "outputId": "e62233c6-250d-41fd-afff-624ad7ee99f5"
      },
      "outputs": [
        {
          "output_type": "execute_result",
          "data": {
            "text/plain": [
              "Matrix([\n",
              "[2, 3, 1],\n",
              "[3, 2, 2],\n",
              "[1, 1, 1]])"
            ],
            "text/latex": "$\\displaystyle \\left[\\begin{matrix}2 & 3 & 1\\\\3 & 2 & 2\\\\1 & 1 & 1\\end{matrix}\\right]$"
          },
          "metadata": {},
          "execution_count": 2
        }
      ],
      "source": [
        "A"
      ]
    },
    {
      "cell_type": "code",
      "execution_count": 3,
      "metadata": {
        "colab": {
          "base_uri": "https://localhost:8080/",
          "height": 78
        },
        "id": "x2HQmnld6uD7",
        "outputId": "676bba35-ed93-4b25-dca8-ed082b756fb5"
      },
      "outputs": [
        {
          "output_type": "execute_result",
          "data": {
            "text/plain": [
              "Matrix([\n",
              "[1],\n",
              "[2],\n",
              "[3]])"
            ],
            "text/latex": "$\\displaystyle \\left[\\begin{matrix}1\\\\2\\\\3\\end{matrix}\\right]$"
          },
          "metadata": {},
          "execution_count": 3
        }
      ],
      "source": [
        "b"
      ]
    },
    {
      "cell_type": "code",
      "execution_count": 4,
      "metadata": {
        "colab": {
          "base_uri": "https://localhost:8080/",
          "height": 78
        },
        "id": "y4uEFbsS6uD7",
        "outputId": "bfc6ad0d-be90-442f-f52c-d0531ea3a3be"
      },
      "outputs": [
        {
          "output_type": "execute_result",
          "data": {
            "text/plain": [
              "Matrix([\n",
              "[1, 3, 1],\n",
              "[2, 2, 2],\n",
              "[3, 1, 1]])"
            ],
            "text/latex": "$\\displaystyle \\left[\\begin{matrix}1 & 3 & 1\\\\2 & 2 & 2\\\\3 & 1 & 1\\end{matrix}\\right]$"
          },
          "metadata": {},
          "execution_count": 4
        }
      ],
      "source": [
        "# Define matrix A_1\n",
        "A_1 = A.copy() # Copy matrix A\n",
        "A_1[:, 0] = b # Replace the first column of A with vector b\n",
        "A_1 # Check if the replacement was successful"
      ]
    },
    {
      "cell_type": "code",
      "execution_count": 5,
      "metadata": {
        "colab": {
          "base_uri": "https://localhost:8080/",
          "height": 37
        },
        "id": "emBg-igg6uD8",
        "outputId": "bc7ccb01-617d-4016-83b0-cfb35c23b898"
      },
      "outputs": [
        {
          "output_type": "execute_result",
          "data": {
            "text/plain": [
              "-4"
            ],
            "text/latex": "$\\displaystyle -4$"
          },
          "metadata": {},
          "execution_count": 5
        }
      ],
      "source": [
        "det_A_1 = A_1.det() # Calculate determinant of A_1\n",
        "sol_x = det_A_1 / A.det() # Calculate x_1\n",
        "sol_x # Calculated value of x_1"
      ]
    },
    {
      "cell_type": "code",
      "execution_count": 6,
      "metadata": {
        "colab": {
          "base_uri": "https://localhost:8080/",
          "height": 78
        },
        "id": "OSW7fsYZ6uD8",
        "outputId": "d6524a71-9d0d-4ae5-f4bd-490c75a9fd31"
      },
      "outputs": [
        {
          "output_type": "execute_result",
          "data": {
            "text/plain": [
              "Matrix([\n",
              "[2, 1, 1],\n",
              "[3, 2, 2],\n",
              "[1, 3, 1]])"
            ],
            "text/latex": "$\\displaystyle \\left[\\begin{matrix}2 & 1 & 1\\\\3 & 2 & 2\\\\1 & 3 & 1\\end{matrix}\\right]$"
          },
          "metadata": {},
          "execution_count": 6
        }
      ],
      "source": [
        "# Similarly for y\n",
        "A_2 = A.copy()\n",
        "A_2[:, 1] = b\n",
        "A_2 # Check if the replacement was successful"
      ]
    },
    {
      "cell_type": "code",
      "execution_count": 7,
      "metadata": {
        "colab": {
          "base_uri": "https://localhost:8080/",
          "height": 37
        },
        "id": "mZbmCPc-6uD9",
        "outputId": "c88338fc-1f7a-45d9-ed35-85f90169b14d"
      },
      "outputs": [
        {
          "output_type": "execute_result",
          "data": {
            "text/plain": [
              "1"
            ],
            "text/latex": "$\\displaystyle 1$"
          },
          "metadata": {},
          "execution_count": 7
        }
      ],
      "source": [
        "det_A_2 = A_2.det()\n",
        "sol_y = det_A_2 / A.det()\n",
        "sol_y"
      ]
    },
    {
      "cell_type": "code",
      "execution_count": 8,
      "metadata": {
        "colab": {
          "base_uri": "https://localhost:8080/",
          "height": 37
        },
        "id": "Ci4GtPs_6uD-",
        "outputId": "277d3762-7114-4565-b618-b4608eef086f"
      },
      "outputs": [
        {
          "output_type": "execute_result",
          "data": {
            "text/plain": [
              "6"
            ],
            "text/latex": "$\\displaystyle 6$"
          },
          "metadata": {},
          "execution_count": 8
        }
      ],
      "source": [
        "# Finally for z\n",
        "A_3 = A.copy()\n",
        "A_3[:, 2] = b\n",
        "det_A_3 = A_3.det()\n",
        "sol_z = det_A_3 / A.det()\n",
        "sol_z"
      ]
    },
    {
      "cell_type": "code",
      "execution_count": 9,
      "metadata": {
        "colab": {
          "base_uri": "https://localhost:8080/"
        },
        "id": "ww_Um2DZ6uD-",
        "outputId": "bc3db19c-081a-4d9f-b99a-b53628a4f634"
      },
      "outputs": [
        {
          "output_type": "execute_result",
          "data": {
            "text/plain": [
              "{x: -4, y: 1, z: 6}"
            ]
          },
          "metadata": {},
          "execution_count": 9
        }
      ],
      "source": [
        "# Solve the system of equations\n",
        "sp.solve((eq1, eq2, eq3), (x, y, z))"
      ]
    },
    {
      "cell_type": "markdown",
      "metadata": {
        "id": "K1Jzq4gf6uD_"
      },
      "source": [
        "---\n",
        "\n",
        "## Exercises for Students\n",
        "\n",
        "1. Solve the system of equations:\n",
        "   $$\n",
        "   \\begin{cases}\n",
        "   2x_1 - 3x_2 = 7 \\\\\n",
        "   3x_1 + 5x_2 = 2\n",
        "   \\end{cases}\n",
        "   $$\n",
        "  $$ \\begin{aligned}\n",
        "&\\begin{aligned}\n",
        "& \\text { 1: }\\left\\{\\begin{array}{l}\n",
        "2 x_1-3 x_2=7 \\\\\n",
        "3 x_1+5 x_2=2\n",
        "\\end{array}\\right. \\\\\n",
        "& \\text { Solution:- } A=\\left[\\begin{array}{cc}\n",
        "2 & -3 \\\\\n",
        "3 & 5\n",
        "\\end{array}\\right] \\quad X_1=\\frac{D x_1}{D} \\quad X_2=\\frac{D x_2}{D} \\\\\n",
        "& \\operatorname{Det} A=5 \\cdot 2-(3 \\cdot-3)=\\quad \\begin{array}{l}\n",
        "D=19 \\\\\n",
        "D x_1=41\n",
        "\\end{array} \\\\\n",
        "& 10+9=19 \\quad D x_2=-17\n",
        "\\end{aligned}\\\\\n",
        "&\\begin{aligned}\n",
        "& D_{x_2}=\\left[\\begin{array}{ll}\n",
        "2 & 7 \\\\\n",
        "3 & 2\n",
        "\\end{array}\\right]=\\begin{array}{c}\n",
        "2 \\cdot 2-(7 \\cdot 3) \\\\\n",
        "4-21=-17\n",
        "\\end{array} \\\\\n",
        "& x_1=\\frac{D_{x_1}}{D}=\\frac{41}{19} \\\\\n",
        "& x_2=\\frac{D x_2}{D}=\\frac{-17}{19}\n",
        "\\end{aligned}\n",
        "\\end{aligned} $$\n",
        "2. Solve the system of equations:\n",
        "   $$\n",
        "   \\begin{cases}\n",
        "   2x + y - z = 1 \\\\\n",
        "   x - y + 2z = 4 \\\\\n",
        "   3x - 2z = -1\n",
        "   \\end{cases}\n",
        "   $$\n",
        "\n",
        "   $$\n",
        "A =\n",
        "\\begin{vmatrix}\n",
        "2 & 1 & -1 \\\\\n",
        "1 & -1 & 2 \\\\\n",
        "3 & 0 & -2 \\\\\n",
        "\\end{vmatrix}\n",
        "$$\n",
        "\n",
        "$$\n",
        "D = 2 \\cdot\n",
        "\\begin{vmatrix}\n",
        "-1 & 2 \\\\\n",
        "0 & -2 \\\\\n",
        "\\end{vmatrix}\n",
        " (-1) \\cdot\n",
        "\\begin{vmatrix}\n",
        "1 & 2 \\\\\n",
        "3 & -2 \\\\\n",
        "\\end{vmatrix}\n",
        "- 1 \\cdot\n",
        "\\begin{vmatrix}\n",
        "1 & -1 \\\\\n",
        "3 & 0 \\\\\n",
        "\\end{vmatrix}\n",
        "= 4 + 8 - 3 = 9\n",
        "$$\n",
        "\n",
        "$$\n",
        "D_x =\n",
        "\\begin{vmatrix}\n",
        "1 & 1 & -1 \\\\\n",
        "4 & -1 & 2 \\\\\n",
        "-1 & 0 & -2 \\\\\n",
        "\\end{vmatrix}\n",
        "$$\n",
        "\n",
        "$$\n",
        "D_x = 1 \\cdot\n",
        "\\begin{vmatrix}\n",
        "-1 & 2 \\\\\n",
        "0 & -2 \\\\\n",
        "\\end{vmatrix}\n",
        " (-1) \\cdot\n",
        "\\begin{vmatrix}\n",
        "4 & 2 \\\\\n",
        "-1 & -2 \\\\\n",
        "\\end{vmatrix}\n",
        "- 1 \\cdot\n",
        "\\begin{vmatrix}\n",
        "4 & -1 \\\\\n",
        "-1 & 0 \\\\\n",
        "\\end{vmatrix}\n",
        "= 2 + 6 + 1 = 9\n",
        "$$\n",
        "\n",
        "\n",
        "$$\n",
        "D_y =\n",
        "\\begin{vmatrix}\n",
        "2 & 1 & -1 \\\\\n",
        "1 & 4 & 2 \\\\\n",
        "3 & -1 & -2 \\\\\n",
        "\\end{vmatrix}\n",
        "$$\n",
        "\n",
        "$$\n",
        "D_y = 2 \\cdot\n",
        "\\begin{vmatrix}\n",
        "4 & 2 \\\\\n",
        "-1 & -2 \\\\\n",
        "\\end{vmatrix}\n",
        "- 1 \\cdot\n",
        "\\begin{vmatrix}\n",
        "1 & 2 \\\\\n",
        "3 & -2 \\\\\n",
        "\\end{vmatrix} (-1) \\cdot\n",
        "\\begin{vmatrix}\n",
        "1 & 4 \\\\\n",
        "3 & -1 \\\\\n",
        "\\end{vmatrix}\n",
        "= -12 + 8 + 13 = 9\n",
        "$$\n",
        "\n",
        "$$\n",
        "D_z =\n",
        "\\begin{vmatrix}\n",
        "2 & 1 & 1 \\\\\n",
        "1 & -1 & 4 \\\\\n",
        "3 & 0 & -1 \\\\\n",
        "\\end{vmatrix}\n",
        "$$\n",
        "\n",
        "$$\n",
        "D_z = 2 \\cdot\n",
        "\\begin{vmatrix}\n",
        "-1 & 4 \\\\\n",
        "0 & -1 \\\\\n",
        "\\end{vmatrix}\n",
        "- 1 \\cdot\n",
        "\\begin{vmatrix}\n",
        "1 & 4 \\\\\n",
        "3 & -1 \\\\\n",
        "\\end{vmatrix}\n",
        "+ 1 \\cdot\n",
        "\\begin{vmatrix}\n",
        "1 & -1 \\\\\n",
        "3 & 0 \\\\\n",
        "\\end{vmatrix}\n",
        "= 2 + 13 + 3 = 18\n",
        "$$\n",
        "\n",
        "$$\n",
        "x = \\frac{D_x}{D} = \\frac{9}{9} = 1\n",
        "$$\n",
        "\n",
        "$$\n",
        "y = \\frac{D_y}{D} = \\frac{9}{9} = 1\n",
        "$$\n",
        "\n",
        "$$\n",
        "z = \\frac{D_z}{D} = \\frac{18}{9} = 2\n",
        "$$\n",
        "\n",
        "3. Solve the system of equations:\n",
        "   $$\n",
        "   \\begin{cases}\n",
        "   x + y + z - t = 2 \\\\\n",
        "   x - z + 2t = 6 \\\\\n",
        "   2x - 3y + t = 4 \\\\\n",
        "   3x + y + 3z - 4t = -2\n",
        "   \\end{cases}\n",
        "   $$\n",
        "\n",
        "$$ A =\n",
        "\\begin{bmatrix}\n",
        "1 & 1 & 1 & -1 \\\\\n",
        "1 & 0 & -1 & 2 \\\\\n",
        "2 & -3 & 0 & 1 \\\\\n",
        "3 & 1 & 3 & -4\n",
        "\\end{bmatrix} $$\n",
        "# Sarrus rule #\n",
        "$$ DetA= 1* \\begin{bmatrix} 0 & -1 & 2 \\\\ -3 & 0 & -1 \\\\ 1 & 3 & -4 \\end{bmatrix} -1* \\begin{bmatrix} 1 & -1 & 2 \\\\ 2 & 0 & 1 \\\\ 3 & 3 & -4 \\end{bmatrix} +1* \\begin{bmatrix} 1 & 0 & 2 \\\\ 2 & -3 & 1 \\\\ 3 & 1 & -4 \\end{bmatrix} -1* \\begin{bmatrix} 1 & 0 & -1 \\\\ 2 & -3 & 0 \\\\ 3 & 1 & 3 \\end{bmatrix} $$\n",
        "# Det 1 = #\n",
        "$$\n",
        "\\begin{bmatrix} 0 & -1 & 2 & 0 & -1 \\\\ -3 & 0 & 1 & -3 & 0 \\\\ 1 & 3 & -4 & 1 & 3 \\end{bmatrix} = (-1)(1)(1)+(2)(-3)(3)- (-1)(-3)(-4) = -1-18+12= -7 $$\n",
        "\n",
        "# Det 2= #\n",
        "\n",
        "$$ \\begin{bmatrix} 1 & - 1 & 2 & 1 & -1 \\\\ 2 & 0 & 1 & 2 & 0 \\\\ 3 & 3 & -4 & 3 & 3 \\end{bmatrix} $$\n",
        "\n",
        "$$ = (-1)(1)(3)+(2)(2)(3)-(-1)(2)(-4)-(1)(1)(3)= -3+12-8-3= -2 $$\n",
        "\n",
        "# Det 3= #\n",
        "\n",
        "$$ \\begin{bmatrix} 1 & 0 & 2 & 1 & 0 \\\\ 2 & -3 & 1 & 2 & -3 \\\\ 3 & 1 & -4 & 3 & 1 \\end{bmatrix} $$\n",
        "\n",
        "$$ = (1)(-3)(-4) + (2)(2)(1)- (1)(1)(1) - (2)(-3)(3) = 12 +4-1+18= 33 $$\n",
        "\n",
        "# Det 4= #\n",
        "\n",
        "$$\n",
        "\\begin{bmatrix} 1 & 0 & -1 & 1 & 0 \\\\ 2 & -3 & 0 & 2 & -3 \\\\ 3 & 1 & 3 & 3 & 1 \\end{bmatrix} $$\n",
        "\n",
        "$$ (1)(-3)(3)+(-1)(2)(1)-(-1)(-3)(3)= -9-2-9= -20 $$\n",
        "#D=#\n",
        "\n",
        "$$ 1(-7) -1(-2) +1(33) -1(-20)= -7+2+33+20= 48 $$\n",
        "\n",
        "\n",
        "\n",
        "4. Why can't the following system of equations be solved using Cramer's rule?\n",
        "$$\n",
        "\\begin{cases}\n",
        "x_1 + 2x_2 + 3x_3 = 3 \\\\\n",
        "4x_1 + 5x_2 + 6x_3 = 2 \\\\\n",
        "7x_1 + 8x_2 + 9x_3 = 1\n",
        "\\end{cases}\n",
        "$$\n",
        "\n",
        "4: Cramer's rule needs a non-zero determinant to work. When we calculate the determinant of this system it equals to one, meaning it is inconsistent or has infinitely many solutions.\n",
        "$$\n",
        "\\begin{aligned}\n",
        "& \\begin{array}{l}\n",
        "x_1+2 x_2+3 x_3=3 \\\\\n",
        "4 x_1+5 x_2+6 x_3=2\n",
        "\\end{array} \\\\\n",
        "& 7 x_1+8 x_2+4 x_3=1 \\\\\n",
        "& {\\left[\\begin{array}{lll}\n",
        "1 & 2 & 3 \\\\\n",
        "4 & 5 & 6 \\\\\n",
        "7 & 8 & 9\n",
        "\\end{array}\\right]} \\\\\n",
        "& \\text { Det: } 1\\left[\\begin{array}{cc}\n",
        "5 & 6\\\\\n",
        "8 & 9\n",
        "\\end{array}\\right]-2\\left[\\begin{array}{c}\n",
        "4 & 6 \\\\\n",
        "7 & 9\n",
        "\\end{array}\\right]+3\\left[\\begin{array}{c}\n",
        "4 & 5 \\\\\n",
        "7 & 8\n",
        "\\end{array}\\right] \\\\\n",
        "& \\text { (5) (9) }-6.8=45-48=-3 \\\\\n",
        "& 4 \\cdot 9-6 \\cdot 7=36-42=-6 \\\\\n",
        "& 4 \\cdot 8-5 \\cdot 7=32-35=-3 \\\\\n",
        "& \\text { Det }=1(-3)-2(-6)+3(-3)=-3+12-9=0\n",
        "\\end{aligned}\n",
        "$$"
      ]
    }
  ],
  "metadata": {
    "kernelspec": {
      "display_name": "Python 3",
      "language": "python",
      "name": "python3"
    },
    "language_info": {
      "codemirror_mode": {
        "name": "ipython",
        "version": 3
      },
      "file_extension": ".py",
      "mimetype": "text/x-python",
      "name": "python",
      "nbconvert_exporter": "python",
      "pygments_lexer": "ipython3",
      "version": "3.11.9"
    },
    "colab": {
      "provenance": []
    }
  },
  "nbformat": 4,
  "nbformat_minor": 0
}