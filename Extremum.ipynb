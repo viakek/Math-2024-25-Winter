{
  "nbformat": 4,
  "nbformat_minor": 0,
  "metadata": {
    "colab": {
      "provenance": [],
      "authorship_tag": "ABX9TyPQbvT8Ntj+44iIT2YBLAzq",
      "include_colab_link": true
    },
    "kernelspec": {
      "name": "python3",
      "display_name": "Python 3"
    },
    "language_info": {
      "name": "python"
    }
  },
  "cells": [
    {
      "cell_type": "markdown",
      "metadata": {
        "id": "view-in-github",
        "colab_type": "text"
      },
      "source": [
        "<a href=\"https://colab.research.google.com/github/viakek/Math-2024-25-Winter/blob/main/Extremum.ipynb\" target=\"_parent\"><img src=\"https://colab.research.google.com/assets/colab-badge.svg\" alt=\"Open In Colab\"/></a>"
      ]
    },
    {
      "cell_type": "markdown",
      "source": [
        "\n",
        "## 22. Extremum\n",
        "\n",
        "6. The profit function is $P(u) = -2u^2 + 50u - 300$, where $u$ is the number of units sold. Find the number of units that maximize profit.\n",
        "$$ P'(x)= -4u+50 \\\\ P'(u)=0 \\\\ -4u+50=0 \\\\ -4u=-50 \\\\ 4y=50 \\\\ u=12.5 $$\n",
        "$$ P''(u)=-4 $$\n",
        "##Number of units that maximize profit= 12 and 13\n",
        "7. You have 10 meters of string, and you need to use it to enclose the largest possible rectangular. Find the dimensions of the rectangle.\n",
        "$$ P=2L+2W \\\\ 2L+2W=10 \\\\ 2(L+W)=10 \\\\ L+W= 5 $$\n",
        "8. Find extremum of $f(x) = x^2 + 3x - 5$.\n",
        "\n",
        "$$\n",
        "f'(x) = = 2x + 3\n",
        "$$\n",
        "$$ f'(x)=0 $$\n",
        "$$ 2x+3=0 $$\n",
        "$$\n",
        "2x = -3\n",
        "$$\n",
        "\n",
        "$$\n",
        "x = -\\frac{3}{2}\n",
        "$$\n",
        "\n",
        "$$\n",
        "f''(x) = 2x + 3 = 2\n",
        "$$\n",
        "\n",
        "$$\n",
        "f\\left( -\\frac{3}{2} \\right) = \\left( -\\frac{3}{2} \\right)^2 + 3\\left( -\\frac{3}{2} \\right) - 5\n",
        "$$\n",
        "\n",
        "$$\n",
        "= \\frac{9}{4} - \\frac{9}{2} - 5\n",
        "$$\n",
        "\n",
        "$$\n",
        "= \\frac{9}{4} - \\frac{18}{4} - \\frac{20}{4}\n",
        "$$\n",
        "\n",
        "$$\n",
        "= \\frac{9 - 18 - 20}{4}\n",
        "$$\n",
        "\n",
        "$$\n",
        "= \\frac{-29}{4}\n",
        "$$\n",
        "###Minimum value = -29/4\n",
        "\n",
        "9. Find extremum of $f(x) =\\frac{x^2+2x+1}{x-1}$.\n",
        "\n",
        "$$\n",
        "f'(x) = \\frac{(2x + 2)(x - 1) - (x^2 + 2x + 1)(1)}{(x - 1)^2}.\n",
        "$$\n",
        "$$\n",
        "(2x + 2)(x - 1) = 2x^2 - 2x + 2x - 2 = 2x^2 - 2.\n",
        "$$\n",
        "\n",
        "$$\n",
        "(x^2 + 2x + 1)(1) = x^2 + 2x + 1.\n",
        "$$\n",
        "\n",
        "$$\n",
        "f'(x) = \\frac{2x^2 - 2 - (x^2 + 2x + 1)}{(x - 1)^2}\n",
        "$$\n",
        "\n",
        "$$\n",
        "f'(x) = \\frac{2x^2 - 2 - x^2 - 2x - 1}{(x - 1)^2}\n",
        "$$\n",
        "\n",
        "$$\n",
        "f'(x) = \\frac{x^2 - 2x - 3}{(x - 1)^2}.\n",
        "$$\n",
        "\n",
        "$$\n",
        "\\frac{x^2 - 2x - 3}{(x - 1)^2} = 0.\n",
        "$$\n",
        "$$\n",
        "x^2 - 2x - 3 = 0.\n",
        "$$\n",
        "\n",
        "$$\n",
        "x = 3 \\quad \\text{or} \\quad x = -1.\n",
        "$$\n",
        "\n"
      ],
      "metadata": {
        "id": "l_MpXqosXnJy"
      }
    }
  ]
}